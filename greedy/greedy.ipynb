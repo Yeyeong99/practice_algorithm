{
  "nbformat": 4,
  "nbformat_minor": 0,
  "metadata": {
    "colab": {
      "name": "greedy.ipynb",
      "provenance": [],
      "authorship_tag": "ABX9TyMZ4F64pMfKiHVVXLFwF/ej"
    },
    "kernelspec": {
      "name": "python3",
      "display_name": "Python 3"
    },
    "language_info": {
      "name": "python"
    }
  },
  "cells": [
    {
      "cell_type": "code",
      "execution_count": null,
      "metadata": {
        "colab": {
          "base_uri": "https://localhost:8080/"
        },
        "id": "fghpK87pq_e6",
        "outputId": "48f5ad33-87a0-4eb6-da6e-b13b4f028830"
      },
      "outputs": [
        {
          "output_type": "stream",
          "name": "stdout",
          "text": [
            "1 0 3\n",
            "5\n",
            "0\n"
          ]
        }
      ],
      "source": [
        "# 큰 수 문제\n",
        "n, m, k = input().split()\n",
        "num_list = list(map(int, input().split()))\n",
        "num_list.sort(reverse=True)\n",
        "result = 0\n",
        "for i in range(1, int(m)+1):\n",
        "  if i % (int(k)+1) == 0:\n",
        "    result += num_list[1]\n",
        "  else:\n",
        "    result += num_list[0]\n",
        "\n",
        "print(result)\n",
        "# 시간초과할 가능성 있음"
      ]
    },
    {
      "cell_type": "code",
      "source": [
        "# 시간초과할 가능성 있음\n",
        "\n",
        "N, M, K = map(int, input().split())\n",
        "data = list(map(int, input().split()))\n",
        "\n",
        "data.sort()\n",
        "first = data[N-1]\n",
        "second = data[N-2]\n",
        "\n",
        "result = 0\n",
        "\n",
        "result = 0\n",
        "while True:\n",
        "  for i in range(K):\n",
        "    if M == 0:\n",
        "      break\n",
        "    result += first\n",
        "  if M == 0:\n",
        "    break\n",
        "  result += second\n",
        "  M -= 1\n",
        "print(result)"
      ],
      "metadata": {
        "colab": {
          "base_uri": "https://localhost:8080/"
        },
        "id": "KoZkUe3Tvz0P",
        "outputId": "a84802dd-be82-4ce3-f58b-44010fbd8579"
      },
      "execution_count": null,
      "outputs": [
        {
          "output_type": "stream",
          "name": "stdout",
          "text": [
            "1 0 3\n",
            "5\n",
            "0\n"
          ]
        }
      ]
    },
    {
      "cell_type": "code",
      "source": [
        "N, M, K = map(int, input().split())\n",
        "data = list(map(int, input().split()))\n",
        "\n",
        "data.sort()\n",
        "first = data[N-1]\n",
        "second = data[N-2]\n",
        "\n",
        "result = 0\n",
        "result += first * K * (M % (K+1) + M // (K+1)) # K번만큼 반복되는 수\n",
        "result += second * (M // (K+1))\n",
        "\n",
        "result"
      ],
      "metadata": {
        "id": "1ueyDer41NsM",
        "colab": {
          "base_uri": "https://localhost:8080/"
        },
        "outputId": "a0c2da1f-9306-4237-e808-c550344a2ebf"
      },
      "execution_count": null,
      "outputs": [
        {
          "name": "stdout",
          "output_type": "stream",
          "text": [
            "5 8 3\n",
            "2 4 5 4 6\n"
          ]
        },
        {
          "output_type": "execute_result",
          "data": {
            "text/plain": [
              "46"
            ]
          },
          "metadata": {},
          "execution_count": 3
        }
      ]
    }
  ]
}