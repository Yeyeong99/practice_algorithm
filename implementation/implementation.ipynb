{
  "nbformat": 4,
  "nbformat_minor": 0,
  "metadata": {
    "colab": {
      "name": "implementation.ipynb",
      "provenance": [],
      "authorship_tag": "ABX9TyPfRxvxLekJRJTmdIN9Qila",
      "include_colab_link": true
    },
    "kernelspec": {
      "name": "python3",
      "display_name": "Python 3"
    },
    "language_info": {
      "name": "python"
    }
  },
  "cells": [
    {
      "cell_type": "markdown",
      "metadata": {
        "id": "view-in-github",
        "colab_type": "text"
      },
      "source": [
        "<a href=\"https://colab.research.google.com/github/Yeyeong99/practice_algorithm/blob/main/implementation/implementation.ipynb\" target=\"_parent\"><img src=\"https://colab.research.google.com/assets/colab-badge.svg\" alt=\"Open In Colab\"/></a>"
      ]
    },
    {
      "cell_type": "code",
      "execution_count": null,
      "metadata": {
        "id": "4PWMXt-sw36E"
      },
      "outputs": [],
      "source": [
        "# 되는 대로 시도\n",
        "n = int(input())\n",
        "direction = list(input().split())\n",
        "\n",
        "\n",
        "def move(direct):\n",
        "  x = 1\n",
        "  y = 1\n",
        "  if i == 'R':\n",
        "      x += 1\n",
        "  elif i == 'L':\n",
        "      x -= 1\n",
        "  elif i == 'U':\n",
        "      y -= 1\n",
        "  elif i == 'D':\n",
        "    y += 1\n",
        "\n",
        "for i in direction:\n",
        "  if x < 6:\n",
        "    move(i)\n",
        "  elif x > 1:\n",
        "    move(i)\n",
        "  elif y > 1:\n",
        "    move(i)\n",
        "  elif y < 6:\n",
        "    move(i)\n",
        "\n",
        "print(x, y)"
      ]
    },
    {
      "cell_type": "code",
      "source": [
        "# 모범 답안\n",
        "n = int(input())\n",
        "direction = list(input().split())\n",
        "x, y = 1, 1\n",
        "\n",
        "dx = [0, 0, -1, 1]\n",
        "dy = [-1, 1, 0, 0, ]\n",
        "move_types = ['L', 'R', 'U', 'D']\n",
        "\n",
        "for direct in direction:\n",
        "  for i in range(len(move_types)):\n",
        "    if direct == move_types[i]:\n",
        "      nx = x + dx[i]\n",
        "      ny = y + dy[i]\n",
        "      print(f'{i} = direct: {direct}, move_types[i]: {move_types[i]}, nx: {nx}, ny: {ny}, dx:{dx[i]}, dy:[{dy[i]}]')\n",
        "  if nx < 1 or ny < 1 or nx > n or ny > n:\n",
        "    continue\n",
        "  x, y = nx, ny\n",
        "\n",
        "print(x, y)"
      ],
      "metadata": {
        "colab": {
          "base_uri": "https://localhost:8080/"
        },
        "id": "ee1RCILyxw0d",
        "outputId": "160e044c-d111-4ddf-8f0e-9310e26b9475"
      },
      "execution_count": 15,
      "outputs": [
        {
          "output_type": "stream",
          "name": "stdout",
          "text": [
            "5\n",
            "R R R U D D\n",
            "1 = direct: R, move_types[i]: R, nx: 1, ny: 2, dx:0, dy:[1]\n",
            "1 = direct: R, move_types[i]: R, nx: 1, ny: 3, dx:0, dy:[1]\n",
            "1 = direct: R, move_types[i]: R, nx: 1, ny: 4, dx:0, dy:[1]\n",
            "2 = direct: U, move_types[i]: U, nx: 0, ny: 4, dx:-1, dy:[0]\n",
            "3 = direct: D, move_types[i]: D, nx: 2, ny: 4, dx:1, dy:[0]\n",
            "3 = direct: D, move_types[i]: D, nx: 3, ny: 4, dx:1, dy:[0]\n",
            "3 4\n"
          ]
        }
      ]
    }
  ]
}